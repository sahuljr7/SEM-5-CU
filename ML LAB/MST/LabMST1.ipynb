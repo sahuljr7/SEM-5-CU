{
 "cells": [
  {
   "cell_type": "code",
   "execution_count": 14,
   "id": "04e58b11",
   "metadata": {},
   "outputs": [],
   "source": [
    "import pandas as pd\n",
    "import numpy as nu\n",
    "df = pd.read_csv(\"test1.csv\")"
   ]
  },
  {
   "cell_type": "code",
   "execution_count": 13,
   "id": "ebb70a82",
   "metadata": {},
   "outputs": [
    {
     "name": "stdout",
     "output_type": "stream",
     "text": [
      "null in a:  0\n",
      "null in b:  0\n"
     ]
    }
   ],
   "source": [
    "df.head()\n",
    "df[\"x\"].isnull()\n",
    "df[\"y\"].isnull()\n",
    "a = df[\"x\"].isnull().sum()\n",
    "b = df[\"y\"].isnull().sum()\n",
    "\n",
    "print(\"null in a: \",a)\n",
    "print(\"null in b: \",b)"
   ]
  },
  {
   "cell_type": "code",
   "execution_count": 9,
   "id": "daf3ee91",
   "metadata": {},
   "outputs": [
    {
     "name": "stdout",
     "output_type": "stream",
     "text": [
      "[[87.47908487]\n",
      " [74.44613281]\n",
      " [91.20278545]\n",
      " [ 8.35044739]\n",
      " [88.41001001]\n",
      " [96.78833634]\n",
      " [ 7.41952224]\n",
      " [ 3.69582165]\n",
      " [17.65969886]\n",
      " [33.48542635]\n",
      " [18.590624  ]\n",
      " [63.27503105]\n",
      " [14.86692342]\n",
      " [38.14005209]\n",
      " [90.27186031]\n",
      " [96.78833634]\n",
      " [60.48225561]\n",
      " [45.58745326]\n",
      " [36.27820179]\n",
      " [43.72560297]\n",
      " [52.10392929]\n",
      " [93.9955609 ]\n",
      " [39.07097723]\n",
      " [23.24524974]\n",
      " [42.79467782]\n",
      " [50.24207899]\n",
      " [26.96895032]\n",
      " [69.79150708]\n",
      " [90.27186031]\n",
      " [ 8.35044739]\n",
      " [ 3.69582165]\n",
      " [49.31115385]\n",
      " [78.1698334 ]\n",
      " [93.9955609 ]\n",
      " [54.89670473]\n",
      " [ 3.69582165]\n",
      " [92.1337106 ]\n",
      " [66.06780649]\n",
      " [68.86058193]\n",
      " [53.03485444]\n",
      " [88.41001001]\n",
      " [79.10075855]\n",
      " [18.590624  ]\n",
      " [15.79784856]\n",
      " [67.92965678]\n",
      " [60.48225561]\n",
      " [64.2059562 ]\n",
      " [16.72877371]\n",
      " [18.590624  ]\n",
      " [ 8.35044739]\n",
      " [19.52154915]\n",
      " [14.86692342]\n",
      " [29.76172576]\n",
      " [29.76172576]\n",
      " [54.89670473]\n",
      " [57.68948017]\n",
      " [84.68630943]\n",
      " [62.3441059 ]\n",
      " [75.37705796]\n",
      " [57.68948017]]\n",
      "Slope: [[0.93092515]]\n",
      "Intercept: [3.69582165]\n"
     ]
    }
   ],
   "source": [
    "from sklearn.linear_model import LinearRegression\n",
    "from sklearn.model_selection import train_test_split\n",
    "x,y = df[[\"x\"]],df[[\"y\"]]\n",
    "X_train,X_test,y_train,y_test = train_test_split(x,y,random_state=42,test_size=0.2)\n",
    "model = LinearRegression()\n",
    "model.fit(X_train,y_train)\n",
    "y_predict = model.predict(X_test)\n",
    "print(y_predict)\n",
    "print('Slope:' ,model.coef_)\n",
    "print('Intercept:', model.intercept_)"
   ]
  },
  {
   "cell_type": "code",
   "execution_count": 10,
   "id": "bc85e284",
   "metadata": {},
   "outputs": [
    {
     "data": {
      "text/plain": [
       "[<matplotlib.lines.Line2D at 0x1985d195550>]"
      ]
     },
     "execution_count": 10,
     "metadata": {},
     "output_type": "execute_result"
    },
    {
     "data": {
      "image/png": "[encoded data removed]",
      "text/plain": [
       "<Figure size 432x288 with 1 Axes>"
      ]
     },
     "metadata": {
      "needs_background": "light"
     },
     "output_type": "display_data"
    }
   ],
   "source": [
    "import matplotlib.pyplot as plt\n",
    "plt.scatter(X_train,y_train)\n",
    "slope = 0.93092515\n",
    "inte = 3.69582165\n",
    "y = [(each*slope)+inte for each in df[\"x\"]]\n",
    "plt.plot(df[\"x\"],y)"
   ]
  },
  {
   "cell_type": "code",
   "execution_count": null,
   "id": "d49b5c09",
   "metadata": {},
   "outputs": [],
   "source": []
  }
 ],
 "metadata": {
  "kernelspec": {
   "display_name": "Python 3 (ipykernel)",
   "language": "python",
   "name": "python3"
  },
  "language_info": {
   "codemirror_mode": {
    "name": "ipython",
    "version": 3
   },
   "file_extension": ".py",
   "mimetype": "text/x-python",
   "name": "python",
   "nbconvert_exporter": "python",
   "pygments_lexer": "ipython3",
   "version": "3.9.12"
  }
 },
 "nbformat": 4,
 "nbformat_minor": 5
}
