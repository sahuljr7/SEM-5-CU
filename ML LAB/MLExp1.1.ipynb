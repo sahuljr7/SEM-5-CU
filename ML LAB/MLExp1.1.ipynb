{
 "cells": [
  {
   "cell_type": "code",
   "execution_count": 1,
   "id": "f87cd9f1",
   "metadata": {},
   "outputs": [],
   "source": [
    "#1.Implement Exploratory Data Analysis on any data set.\n",
    "import pandas as pd\n",
    "import numpy as np\n",
    "import matplotlib.pyplot as plt"
   ]
  },
  {
   "cell_type": "code",
   "execution_count": 2,
   "id": "6b48df23",
   "metadata": {},
   "outputs": [],
   "source": [
    "df = pd.DataFrame({\n",
    "    'UID':[\"20BCS4919\",\"20BCS5650\",\"20BCS5660\",\"20BCS5670\",\"20BCS5680\",\"20BCS5690\",\"20BCS5700\",\"20BCS5701\",\"20BCS5702\",\"20BCS5703\"],\n",
    "    'NAME':[\"SAHUL KUMAR\",\"RAM KUMAR\",\"RAJAT KUMAR\",\"ROHAN KUMAR\",\"KARAN KUMAR\",\"PREM KUMAR\",\"ROBIN KUMAR\",\"GAURAV KUMAR\",\"SHIVAM KUMAR\",\"DEVDAS KUMAR\",],\n",
    "    'SECTION':[\"A\",\"B\",\"C\",\"D\",\"E\",\"F\",\"G\",\"H\",\"I\",\"J\"]\n",
    "})"
   ]
  },
  {
   "cell_type": "code",
   "execution_count": 3,
   "id": "6fcf8a6f",
   "metadata": {},
   "outputs": [
    {
     "data": {
      "text/plain": [
       "0    20BCS4919\n",
       "1    20BCS5650\n",
       "2    20BCS5660\n",
       "3    20BCS5670\n",
       "4    20BCS5680\n",
       "5    20BCS5690\n",
       "6    20BCS5700\n",
       "7    20BCS5701\n",
       "8    20BCS5702\n",
       "9    20BCS5703\n",
       "Name: UID, dtype: object"
      ]
     },
     "execution_count": 3,
     "metadata": {},
     "output_type": "execute_result"
    }
   ],
   "source": [
    "df['UID']"
   ]
  },
  {
   "cell_type": "code",
   "execution_count": 4,
   "id": "046aa3fd",
   "metadata": {},
   "outputs": [
    {
     "data": {
      "text/plain": [
       "'20BCS5650'"
      ]
     },
     "execution_count": 4,
     "metadata": {},
     "output_type": "execute_result"
    }
   ],
   "source": [
    "df.iloc[1,0]"
   ]
  },
  {
   "cell_type": "code",
   "execution_count": 7,
   "id": "6dcda3bd",
   "metadata": {},
   "outputs": [
    {
     "data": {
      "text/plain": [
       "0    20BCS4919\n",
       "1    20BCS5650\n",
       "Name: UID, dtype: object"
      ]
     },
     "execution_count": 7,
     "metadata": {},
     "output_type": "execute_result"
    }
   ],
   "source": [
    "df.iloc[0:2,0]"
   ]
  },
  {
   "cell_type": "code",
   "execution_count": 8,
   "id": "c721dbfa",
   "metadata": {},
   "outputs": [
    {
     "data": {
      "text/html": [
       "<div>\n",
       "<style scoped>\n",
       "    .dataframe tbody tr th:only-of-type {\n",
       "        vertical-align: middle;\n",
       "    }\n",
       "\n",
       "    .dataframe tbody tr th {\n",
       "        vertical-align: top;\n",
       "    }\n",
       "\n",
       "    .dataframe thead th {\n",
       "        text-align: right;\n",
       "    }\n",
       "</style>\n",
       "<table border=\"1\" class=\"dataframe\">\n",
       "  <thead>\n",
       "    <tr style=\"text-align: right;\">\n",
       "      <th></th>\n",
       "      <th>UID</th>\n",
       "      <th>NAME</th>\n",
       "    </tr>\n",
       "  </thead>\n",
       "  <tbody>\n",
       "    <tr>\n",
       "      <th>0</th>\n",
       "      <td>20BCS4919</td>\n",
       "      <td>SAHUL KUMAR</td>\n",
       "    </tr>\n",
       "    <tr>\n",
       "      <th>1</th>\n",
       "      <td>20BCS5650</td>\n",
       "      <td>RAM KUMAR</td>\n",
       "    </tr>\n",
       "  </tbody>\n",
       "</table>\n",
       "</div>"
      ],
      "text/plain": [
       "         UID         NAME\n",
       "0  20BCS4919  SAHUL KUMAR\n",
       "1  20BCS5650    RAM KUMAR"
      ]
     },
     "execution_count": 8,
     "metadata": {},
     "output_type": "execute_result"
    }
   ],
   "source": [
    "df.iloc[0:2,0:2]"
   ]
  },
  {
   "cell_type": "code",
   "execution_count": 9,
   "id": "b23522b4",
   "metadata": {},
   "outputs": [
    {
     "data": {
      "text/html": [
       "<div>\n",
       "<style scoped>\n",
       "    .dataframe tbody tr th:only-of-type {\n",
       "        vertical-align: middle;\n",
       "    }\n",
       "\n",
       "    .dataframe tbody tr th {\n",
       "        vertical-align: top;\n",
       "    }\n",
       "\n",
       "    .dataframe thead th {\n",
       "        text-align: right;\n",
       "    }\n",
       "</style>\n",
       "<table border=\"1\" class=\"dataframe\">\n",
       "  <thead>\n",
       "    <tr style=\"text-align: right;\">\n",
       "      <th></th>\n",
       "      <th>UID</th>\n",
       "      <th>NAME</th>\n",
       "    </tr>\n",
       "  </thead>\n",
       "  <tbody>\n",
       "    <tr>\n",
       "      <th>0</th>\n",
       "      <td>20BCS4919</td>\n",
       "      <td>SAHUL KUMAR</td>\n",
       "    </tr>\n",
       "  </tbody>\n",
       "</table>\n",
       "</div>"
      ],
      "text/plain": [
       "         UID         NAME\n",
       "0  20BCS4919  SAHUL KUMAR"
      ]
     },
     "execution_count": 9,
     "metadata": {},
     "output_type": "execute_result"
    }
   ],
   "source": [
    "df.iloc[:1,0:2]"
   ]
  },
  {
   "cell_type": "code",
   "execution_count": 10,
   "id": "ec445966",
   "metadata": {},
   "outputs": [
    {
     "data": {
      "text/plain": [
       "1       RAM KUMAR\n",
       "2     RAJAT KUMAR\n",
       "3     ROHAN KUMAR\n",
       "4     KARAN KUMAR\n",
       "5      PREM KUMAR\n",
       "6     ROBIN KUMAR\n",
       "7    GAURAV KUMAR\n",
       "8    SHIVAM KUMAR\n",
       "9    DEVDAS KUMAR\n",
       "Name: NAME, dtype: object"
      ]
     },
     "execution_count": 10,
     "metadata": {},
     "output_type": "execute_result"
    }
   ],
   "source": [
    "df.loc[1:,\"NAME\"]"
   ]
  },
  {
   "cell_type": "code",
   "execution_count": 11,
   "id": "203792fb",
   "metadata": {},
   "outputs": [
    {
     "data": {
      "text/plain": [
       "(10, 3)"
      ]
     },
     "execution_count": 11,
     "metadata": {},
     "output_type": "execute_result"
    }
   ],
   "source": [
    "df.shape"
   ]
  },
  {
   "cell_type": "code",
   "execution_count": 12,
   "id": "6c72e3e7",
   "metadata": {},
   "outputs": [
    {
     "data": {
      "text/plain": [
       "tuple"
      ]
     },
     "execution_count": 12,
     "metadata": {},
     "output_type": "execute_result"
    }
   ],
   "source": [
    "type(df.shape)"
   ]
  },
  {
   "cell_type": "code",
   "execution_count": null,
   "id": "195ccd99",
   "metadata": {},
   "outputs": [],
   "source": []
  }
 ],
 "metadata": {
  "kernelspec": {
   "display_name": "Python 3 (ipykernel)",
   "language": "python",
   "name": "python3"
  },
  "language_info": {
   "codemirror_mode": {
    "name": "ipython",
    "version": 3
   },
   "file_extension": ".py",
   "mimetype": "text/x-python",
   "name": "python",
   "nbconvert_exporter": "python",
   "pygments_lexer": "ipython3",
   "version": "3.9.12"
  }
 },
 "nbformat": 4,
 "nbformat_minor": 5
}
